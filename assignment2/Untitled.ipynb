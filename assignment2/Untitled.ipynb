{
 "cells": [
  {
   "cell_type": "code",
   "execution_count": 1,
   "metadata": {
    "collapsed": true
   },
   "outputs": [],
   "source": [
    "import numpy as np\n",
    "import matplotlib as plt\n"
   ]
  },
  {
   "cell_type": "code",
   "execution_count": 6,
   "metadata": {
    "collapsed": true
   },
   "outputs": [],
   "source": [
    "input_size = 20; hidden_size = 10; output_size= 2;"
   ]
  },
  {
   "cell_type": "code",
   "execution_count": 9,
   "metadata": {
    "collapsed": false
   },
   "outputs": [],
   "source": [
    "import numpy as np\n",
    "import matplotlib.pyplot as plt\n",
    "\n",
    "def init_two_layer_model(input_size, hidden_size, output_size):\n",
    "  \"\"\"\n",
    "  Initialize the weights and biases for a two-layer fully connected neural\n",
    "  network. The net has an input dimension of D, a hidden layer dimension of H,\n",
    "  and performs classification over C classes. Weights are initialized to small\n",
    "  random values and biases are initialized to zero.\n",
    "\n",
    "  Inputs:\n",
    "  - input_size: The dimension D of the input data\n",
    "  - hidden_size: The number of neurons H in the hidden layer\n",
    "  - ouput_size: The number of classes C\n",
    "\n",
    "  Returns:\n",
    "  A dictionary mapping parameter names to arrays of parameter values. It has\n",
    "  the following keys:\n",
    "  - W1: First layer weights; has shape (D, H)\n",
    "  - b1: First layer biases; has shape (H,)\n",
    "  - W2: Second layer weights; has shape (H, C)\n",
    "  - b2: Second layer biases; has shape (C,)\n",
    "  \"\"\"\n",
    "  # initialize a model\n",
    "  model = {}\n",
    "  model['W1'] = 0.00001 * np.random.randn(input_size, hidden_size)\n",
    "  model['b1'] = np.zeros(hidden_size)\n",
    "  model['W2'] = 0.00001 * np.random.randn(hidden_size, output_size)\n",
    "  model['b2'] = np.zeros(output_size)\n",
    "  return model\n"
   ]
  },
  {
   "cell_type": "code",
   "execution_count": null,
   "metadata": {
    "collapsed": true
   },
   "outputs": [],
   "source": []
  }
 ],
 "metadata": {
  "kernelspec": {
   "display_name": "Python 2",
   "language": "python",
   "name": "python2"
  },
  "language_info": {
   "codemirror_mode": {
    "name": "ipython",
    "version": 2
   },
   "file_extension": ".py",
   "mimetype": "text/x-python",
   "name": "python",
   "nbconvert_exporter": "python",
   "pygments_lexer": "ipython2",
   "version": "2.7.9"
  }
 },
 "nbformat": 4,
 "nbformat_minor": 0
}
